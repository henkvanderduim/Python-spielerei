{
 "cells": [
  {
   "cell_type": "code",
   "execution_count": 1,
   "metadata": {},
   "outputs": [
    {
     "name": "stdout",
     "output_type": "stream",
     "text": [
      "<class 'pandas.core.frame.DataFrame'>\n",
      "RangeIndex: 209 entries, 0 to 208\n",
      "Data columns (total 16 columns):\n",
      " #   Column            Non-Null Count  Dtype  \n",
      "---  ------            --------------  -----  \n",
      " 0   Country/Region    209 non-null    object \n",
      " 1   Continent         208 non-null    object \n",
      " 2   Population        208 non-null    float64\n",
      " 3   TotalCases        209 non-null    int64  \n",
      " 4   NewCases          4 non-null      float64\n",
      " 5   TotalDeaths       188 non-null    float64\n",
      " 6   NewDeaths         3 non-null      float64\n",
      " 7   TotalRecovered    205 non-null    float64\n",
      " 8   NewRecovered      3 non-null      float64\n",
      " 9   ActiveCases       205 non-null    float64\n",
      " 10  Serious,Critical  122 non-null    float64\n",
      " 11  Tot Cases/1M pop  208 non-null    float64\n",
      " 12  Deaths/1M pop     187 non-null    float64\n",
      " 13  TotalTests        191 non-null    float64\n",
      " 14  Tests/1M pop      191 non-null    float64\n",
      " 15  WHO Region        184 non-null    object \n",
      "dtypes: float64(12), int64(1), object(3)\n",
      "memory usage: 26.2+ KB\n"
     ]
    }
   ],
   "source": [
    "##Importing the necessary packages\n",
    "import pandas as pd\n",
    "import numpy as np\n",
    "import warnings\n",
    "warnings.filterwarnings('ignore')\n",
    "\n",
    "%matplotlib inline\n",
    "pd.set_option('display.max_colwidth',None)\n",
    "pd.set_option('display.max_columns',None)\n",
    "\n",
    "\n",
    "# Graphics in retina format are more sharp and legible\n",
    "%config InlineBackend.figure_format = 'retina'\n",
    "\n",
    "data = pd.read_csv(\"worldometer_data.csv\")\n",
    "data.head(2)\n",
    "\n",
    "data.shape\n",
    "data.info()"
   ]
  },
  {
   "cell_type": "code",
   "execution_count": 2,
   "metadata": {},
   "outputs": [],
   "source": [
    "data = data.rename(columns={\"Serious,Critical\":\"Serious/Critical\"})"
   ]
  },
  {
   "cell_type": "code",
   "execution_count": 3,
   "metadata": {},
   "outputs": [
    {
     "data": {
      "text/plain": [
       "Country/Region        0\n",
       "Continent             1\n",
       "Population            1\n",
       "TotalCases            0\n",
       "NewCases            205\n",
       "TotalDeaths          21\n",
       "NewDeaths           206\n",
       "TotalRecovered        4\n",
       "NewRecovered        206\n",
       "ActiveCases           4\n",
       "Serious/Critical     87\n",
       "Tot Cases/1M pop      1\n",
       "Deaths/1M pop        22\n",
       "TotalTests           18\n",
       "Tests/1M pop         18\n",
       "WHO Region           25\n",
       "dtype: int64"
      ]
     },
     "execution_count": 3,
     "metadata": {},
     "output_type": "execute_result"
    }
   ],
   "source": [
    "data.isnull().sum()"
   ]
  },
  {
   "cell_type": "code",
   "execution_count": 4,
   "metadata": {},
   "outputs": [],
   "source": [
    "data.dropna(subset=['Continent', \"Population\"], inplace=True)\n",
    "\n",
    "#dropping  columns\n",
    "data.drop(['NewCases', \"NewDeaths\", 'NewRecovered'], axis = 1, inplace=True)\n",
    "\n",
    "#fill missing values in WHO Region column with \"Unknown\"\n",
    "data['WHO Region'] = data['WHO Region'].fillna(\"Unknown\")\n",
    "\n",
    "data = data.fillna(0)"
   ]
  },
  {
   "cell_type": "code",
   "execution_count": 5,
   "metadata": {},
   "outputs": [
    {
     "data": {
      "text/plain": [
       "Country/Region      0\n",
       "Continent           0\n",
       "Population          0\n",
       "TotalCases          0\n",
       "TotalDeaths         0\n",
       "TotalRecovered      0\n",
       "ActiveCases         0\n",
       "Serious/Critical    0\n",
       "Tot Cases/1M pop    0\n",
       "Deaths/1M pop       0\n",
       "TotalTests          0\n",
       "Tests/1M pop        0\n",
       "WHO Region          0\n",
       "dtype: int64"
      ]
     },
     "execution_count": 5,
     "metadata": {},
     "output_type": "execute_result"
    }
   ],
   "source": [
    "data.isnull().sum()"
   ]
  },
  {
   "cell_type": "code",
   "execution_count": 6,
   "metadata": {},
   "outputs": [
    {
     "name": "stdout",
     "output_type": "stream",
     "text": [
      "<class 'pandas.core.frame.DataFrame'>\n",
      "Int64Index: 208 entries, 0 to 208\n",
      "Data columns (total 13 columns):\n",
      " #   Column            Non-Null Count  Dtype  \n",
      "---  ------            --------------  -----  \n",
      " 0   Country/Region    208 non-null    object \n",
      " 1   Continent         208 non-null    object \n",
      " 2   Population        208 non-null    int64  \n",
      " 3   TotalCases        208 non-null    int64  \n",
      " 4   TotalDeaths       208 non-null    int64  \n",
      " 5   TotalRecovered    208 non-null    int64  \n",
      " 6   ActiveCases       208 non-null    int64  \n",
      " 7   Serious/Critical  208 non-null    int64  \n",
      " 8   Tot Cases/1M pop  208 non-null    float64\n",
      " 9   Deaths/1M pop     208 non-null    float64\n",
      " 10  TotalTests        208 non-null    int64  \n",
      " 11  Tests/1M pop      208 non-null    float64\n",
      " 12  WHO Region        208 non-null    object \n",
      "dtypes: float64(3), int64(7), object(3)\n",
      "memory usage: 22.8+ KB\n"
     ]
    }
   ],
   "source": [
    "data = data.astype({\"Population\":'int', \"TotalDeaths\":'int', \n",
    "              'TotalRecovered':'int', 'ActiveCases':'int', \n",
    "               'Serious/Critical':'int', 'TotalTests':'int' }) \n",
    "\n",
    "data.info()"
   ]
  },
  {
   "cell_type": "code",
   "execution_count": 7,
   "metadata": {},
   "outputs": [
    {
     "name": "stdout",
     "output_type": "stream",
     "text": [
      "Country/Region: 208\n",
      "Continent: 6\n",
      "Population: 208\n",
      "TotalCases: 205\n",
      "TotalDeaths: 150\n",
      "TotalRecovered: 201\n",
      "ActiveCases: 179\n",
      "Serious/Critical: 75\n",
      "Tot Cases/1M pop: 202\n",
      "Deaths/1M pop: 108\n",
      "TotalTests: 191\n",
      "Tests/1M pop: 191\n",
      "WHO Region: 7\n"
     ]
    }
   ],
   "source": [
    "# Unique Values\n",
    "each_col = data.columns\n",
    "for col in each_col:\n",
    "    print(\"{}: {}\".format(col,len(data[col].unique())))"
   ]
  },
  {
   "cell_type": "code",
   "execution_count": null,
   "metadata": {},
   "outputs": [],
   "source": [
    "data.to_csv('cleaned_covid_data.csv')"
   ]
  }
 ],
 "metadata": {
  "kernelspec": {
   "display_name": ".venv",
   "language": "python",
   "name": "python3"
  },
  "language_info": {
   "codemirror_mode": {
    "name": "ipython",
    "version": 3
   },
   "file_extension": ".py",
   "mimetype": "text/x-python",
   "name": "python",
   "nbconvert_exporter": "python",
   "pygments_lexer": "ipython3",
   "version": "3.11.0 (v3.11.0:deaf509e8f, Oct 24 2022, 14:43:23) [Clang 13.0.0 (clang-1300.0.29.30)]"
  },
  "orig_nbformat": 4,
  "vscode": {
   "interpreter": {
    "hash": "2b80af97a5314e709bb7f8f1ded4dc5bdc6a9e2a4197ed608c0bf07aaec3057a"
   }
  }
 },
 "nbformat": 4,
 "nbformat_minor": 2
}
