{
 "cells": [
  {
   "cell_type": "code",
   "execution_count": 1,
   "id": "c0957234-ba57-4199-adfa-9d17ede0b8f9",
   "metadata": {},
   "outputs": [
    {
     "data": {
      "application/vnd.jupyter.widget-view+json": {
       "model_id": "eb8cc4ef794b43028bcfbd102a9f17b3",
       "version_major": 2,
       "version_minor": 0
      },
      "text/plain": [
       "MitoWidget(analysis_data_json='{\"analysisName\": \"id-bjieaoyyyz\", \"analysisToReplay\": null, \"code\": [], \"stepSu…"
      ]
     },
     "metadata": {},
     "output_type": "display_data"
    }
   ],
   "source": [
    "# Run this cell to render a mitosheet\n",
    "# See mito's documentation here: https://docs.trymito.io/how-to/creating-a-mitosheet\n",
    "# Join our Discord for support here: https://discord.gg/XdJSZyejJU\n",
    "\n",
    "import mitosheet\n",
    "mitosheet.sheet(analysis_to_replay=\"id-bjieaoyyyz\")"
   ]
  },
  {
   "cell_type": "code",
   "execution_count": null,
   "id": "7e47516b",
   "metadata": {},
   "outputs": [],
   "source": [
    "from mitosheet import *; register_analysis(\"id-bjieaoyyyz\");\n",
    "    \n",
    "# Imported StudentsPerformance.csv\n",
    "import pandas as pd\n",
    "StudentsPerformance = pd.read_csv(r'C:\\Users\\duimh\\Documents\\GitHub\\Python-spielerei\\StudentsPerformance.csv')\n",
    "\n",
    "# Added column new-column-qku0\n",
    "StudentsPerformance.insert(1, 'new-column-qku0', 0)\n",
    "\n",
    "# Renamed columns average\n",
    "StudentsPerformance.rename(columns={'new-column-qku0': 'average'}, inplace=True)\n",
    "\n",
    "# Set formula of average\n",
    "StudentsPerformance['average'] = (StudentsPerformance['math score']+StudentsPerformance['reading score']+StudentsPerformance['writing score'])/3\n",
    "\n",
    "# Pivoted into StudentsPerformance\n",
    "tmp_df = StudentsPerformance[['math score', 'reading score', 'gender']]\n",
    "pivot_table = tmp_df.pivot_table(\n",
    "    index=['gender'],\n",
    "    values=['math score', 'reading score'],\n",
    "    aggfunc={'math score': ['mean'], 'reading score': ['mean']}\n",
    ")\n",
    "pivot_table.set_axis([flatten_column_header(col) for col in pivot_table.keys()], axis=1, inplace=True)\n",
    "StudentsPerformance_pivot = pivot_table.reset_index()\n"
   ]
  }
 ],
 "metadata": {
  "kernelspec": {
   "display_name": "Python 3 (ipykernel)",
   "language": "python",
   "name": "python3"
  },
  "language_info": {
   "codemirror_mode": {
    "name": "ipython",
    "version": 3
   },
   "file_extension": ".py",
   "mimetype": "text/x-python",
   "name": "python",
   "nbconvert_exporter": "python",
   "pygments_lexer": "ipython3",
   "version": "3.10.4"
  },
  "widgets": {
   "application/vnd.jupyter.widget-state+json": {
    "state": {},
    "version_major": 2,
    "version_minor": 0
   }
  }
 },
 "nbformat": 4,
 "nbformat_minor": 5
}
